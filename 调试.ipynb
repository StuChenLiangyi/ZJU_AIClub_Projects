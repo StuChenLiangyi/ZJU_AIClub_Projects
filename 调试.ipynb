{
 "cells": [
  {
   "cell_type": "code",
   "execution_count": null,
   "metadata": {},
   "outputs": [],
   "source": [
    "#如有改动源码，运行务必restart the kernel\n",
    "from main import start\n",
    "%matplotlib inline\n",
    "import gc\n",
    "gc.collect()\n",
    "start(using_raw_features=True,nums=1000,scale_pos_weight=10,neighbor_nums=50000)\n",
    "#是否使用原始特征；生成 违约类 样本的个数， 代价敏感学习参数（越大对违约样本越敏感）;近邻点个数\n",
    "#改动using_raw_features需要完全删除results下内容\n",
    "#改动nums 和 neighbor_nums需要删除train_selectd文件"
   ]
  },
  {
   "cell_type": "code",
   "execution_count": null,
   "metadata": {},
   "outputs": [],
   "source": []
  }
 ],
 "metadata": {
  "kernelspec": {
   "display_name": "Python 3",
   "language": "python",
   "name": "python3"
  },
  "language_info": {
   "codemirror_mode": {
    "name": "ipython",
    "version": 3
   },
   "file_extension": ".py",
   "mimetype": "text/x-python",
   "name": "python",
   "nbconvert_exporter": "python",
   "pygments_lexer": "ipython3",
   "version": "3.6.8"
  }
 },
 "nbformat": 4,
 "nbformat_minor": 4
}
