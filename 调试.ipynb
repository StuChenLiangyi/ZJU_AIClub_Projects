{
 "cells": [
  {
   "cell_type": "code",
   "execution_count": 1,
   "metadata": {},
   "outputs": [],
   "source": [
    "#如有改动源码，运行务必restart the kernel\n",
    "from main import start\n",
    "%matplotlib inline\n",
    "import gc\n",
    "gc.collect()\n",
    "#是否使用原始特征；生成 违约类 样本的个数， 代价敏感学习参数（越大对违约样本越敏感）;近邻点个数\n",
    "#改动using_raw_features需要完全删除results下内容\n",
    "#改动nums 和 neighbor_nums需要删除train_selectd文件\n",
    "\n",
    "nums=5000\n",
    "neighbor_nums=50000\n",
    "scale_pos_weight=neighbor_nums/nums/10\n",
    "\n",
    "start(using_raw_features=True,nums=nums,scale_pos_weight=scale_pos_weight,neighbor_nums=neighbor_nums)\n"
   ]
  },
  {
   "cell_type": "code",
   "execution_count": null,
   "metadata": {},
   "outputs": [],
   "source": []
  }
 ],
 "metadata": {
  "kernelspec": {
   "display_name": "Python 3",
   "language": "python",
   "name": "python3"
  },
  "language_info": {
   "codemirror_mode": {
    "name": "ipython",
    "version": 3
   },
   "file_extension": ".py",
   "mimetype": "text/x-python",
   "name": "python",
   "nbconvert_exporter": "python",
   "pygments_lexer": "ipython3",
   "version": "3.6.8"
  }
 },
 "nbformat": 4,
 "nbformat_minor": 4
}